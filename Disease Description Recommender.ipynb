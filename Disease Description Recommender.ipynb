{
 "cells": [
  {
   "cell_type": "markdown",
   "id": "1ed81c24",
   "metadata": {},
   "source": [
    "# **Disease Symptom Recommendation**\n",
    "\n",
    "For this study, we'll create a recommender function that requires an individual to input a disease and get the five most related diseases. The data was obtained from [Kaggle](https://www.kaggle.com/datasets/itachi9604/disease-symptom-description-dataset?tags=13302-Classification&page=8). This dataset provides the students a source to create a healthcare related system. A project on the same using double Decision Tree Classifiication is available [here](https://github.com/itachi9604/healthcare-chatbot). `Get_dummies` processed file will be available [here](https://www.kaggle.com/rabisingh/symptom-checker?select=Training.csv)"
   ]
  },
  {
   "cell_type": "markdown",
   "id": "0f5ea9bb",
   "metadata": {},
   "source": [
    "## Content\n",
    "\n",
    "There are two columns. The first column contains diseases and the second one the description for the disease. This dataset can be easily cleaned by using file handling in any language. \n",
    "\n",
    "- The user only needs to understand how rows and coloumns are arranged."
   ]
  },
  {
   "cell_type": "code",
   "execution_count": 1,
   "id": "c1bc4e88",
   "metadata": {},
   "outputs": [
    {
     "name": "stdout",
     "output_type": "stream",
     "text": [
      "          Disease                                        Description\n",
      "0   Drug Reaction  An adverse drug reaction (ADR) is an injury ca...\n",
      "1         Malaria  An infectious disease caused by protozoan para...\n",
      "2         Allergy  An allergy is an immune system response to a f...\n",
      "3  Hypothyroidism  Hypothyroidism, also called underactive thyroi...\n",
      "4       Psoriasis  Psoriasis is a common skin disorder that forms...\n"
     ]
    }
   ],
   "source": [
    "import pandas as pd\n",
    "disease_description = pd.read_csv('data/symptom_Description.csv')\n",
    "print(disease_description.head())"
   ]
  },
  {
   "cell_type": "markdown",
   "id": "776258b0",
   "metadata": {},
   "source": [
    "## Building the Recommender Function\n",
    "\n",
    "- First we process the data."
   ]
  },
  {
   "cell_type": "code",
   "execution_count": 2,
   "id": "fa078db2",
   "metadata": {},
   "outputs": [
    {
     "name": "stdout",
     "output_type": "stream",
     "text": [
      "          Disease                                        Description\n",
      "0   Drug Reaction  adverse drug reaction ( adr ) injury cause med...\n",
      "1         Malaria  infectious disease cause protozoan parasite pl...\n",
      "2         Allergy  allergy immune system response foreign substan...\n",
      "3  Hypothyroidism  hypothyroidism underactive thyroid low thyroid...\n",
      "4       Psoriasis  psoriasis common skin disorder form thick red ...\n"
     ]
    }
   ],
   "source": [
    "from sklearn.feature_extraction.text import TfidfVectorizer\n",
    "from sklearn.metrics.pairwise import linear_kernel\n",
    "import spacy\n",
    "nlp = spacy.load('en_core_web_lg')\n",
    "\n",
    "stopwords = spacy.lang.en.stop_words.STOP_WORDS.union({'.', '..', ',', '!', ':', '...', '?'})\n",
    "\n",
    "lemma_func = lambda row: ' '.join(x.lemma_.lower() \n",
    "                                  for x in nlp(row) \n",
    "                                  if x.lemma_.lower() \n",
    "                                  not in stopwords)\n",
    "\n",
    "disease_description['Description'] = disease_description.Description.apply(lemma_func)\n",
    "print(disease_description.head(5))"
   ]
  },
  {
   "cell_type": "markdown",
   "id": "22360e86",
   "metadata": {},
   "source": [
    "- It is also import that we create a `Series` object that we'll use to index the disease name when we use the recommender."
   ]
  },
  {
   "cell_type": "code",
   "execution_count": 3,
   "id": "366e21d4",
   "metadata": {},
   "outputs": [
    {
     "data": {
      "text/plain": [
       "Disease\n",
       "Drug Reaction     0\n",
       "Malaria           1\n",
       "Allergy           2\n",
       "Hypothyroidism    3\n",
       "Psoriasis         4\n",
       "dtype: int64"
      ]
     },
     "execution_count": 3,
     "metadata": {},
     "output_type": "execute_result"
    }
   ],
   "source": [
    "disease_indices = pd.Series(disease_description.index, index=disease_description.Disease)\n",
    "disease_indices.head()"
   ]
  },
  {
   "cell_type": "markdown",
   "id": "42262701",
   "metadata": {},
   "source": [
    "- Next we create tf-idf vectors."
   ]
  },
  {
   "cell_type": "code",
   "execution_count": 4,
   "id": "d7cf194d",
   "metadata": {},
   "outputs": [],
   "source": [
    "vectorizer = TfidfVectorizer(ngram_range=(1, 3))\n",
    "vectorized_matrix = vectorizer.fit_transform(disease_description.Description).toarray()"
   ]
  },
  {
   "cell_type": "markdown",
   "id": "5020ba3d",
   "metadata": {},
   "source": [
    "- Generating a cosine similarity matrix"
   ]
  },
  {
   "cell_type": "code",
   "execution_count": 5,
   "id": "f46a1174",
   "metadata": {},
   "outputs": [
    {
     "data": {
      "text/plain": [
       "array([[1.        , 0.00281687, 0.        , ..., 0.        , 0.        ,\n",
       "        0.00232351],\n",
       "       [0.00281687, 1.        , 0.        , ..., 0.01123695, 0.        ,\n",
       "        0.03143219],\n",
       "       [0.        , 0.        , 1.        , ..., 0.01101901, 0.        ,\n",
       "        0.00503926],\n",
       "       ...,\n",
       "       [0.        , 0.01123695, 0.01101901, ..., 1.        , 0.00808688,\n",
       "        0.00738219],\n",
       "       [0.        , 0.        , 0.        , ..., 0.00808688, 1.        ,\n",
       "        0.01187517],\n",
       "       [0.00232351, 0.03143219, 0.00503926, ..., 0.00738219, 0.01187517,\n",
       "        1.        ]])"
      ]
     },
     "execution_count": 5,
     "metadata": {},
     "output_type": "execute_result"
    }
   ],
   "source": [
    "similarity_matrix = linear_kernel(vectorized_matrix, vectorized_matrix)\n",
    "similarity_matrix"
   ]
  },
  {
   "cell_type": "markdown",
   "id": "e32bfe5e",
   "metadata": {},
   "source": [
    "- Defining the recommender function"
   ]
  },
  {
   "cell_type": "code",
   "execution_count": 7,
   "id": "a780d304",
   "metadata": {},
   "outputs": [
    {
     "data": {
      "text/html": [
       "<div>\n",
       "<style scoped>\n",
       "    .dataframe tbody tr th:only-of-type {\n",
       "        vertical-align: middle;\n",
       "    }\n",
       "\n",
       "    .dataframe tbody tr th {\n",
       "        vertical-align: top;\n",
       "    }\n",
       "\n",
       "    .dataframe thead th {\n",
       "        text-align: right;\n",
       "    }\n",
       "</style>\n",
       "<table border=\"1\" class=\"dataframe\">\n",
       "  <thead>\n",
       "    <tr style=\"text-align: right;\">\n",
       "      <th></th>\n",
       "      <th>Disease</th>\n",
       "      <th>Description</th>\n",
       "    </tr>\n",
       "  </thead>\n",
       "  <tbody>\n",
       "    <tr>\n",
       "      <th>34</th>\n",
       "      <td>Dengue</td>\n",
       "      <td>acute infectious disease cause flavivirus ( sp...</td>\n",
       "    </tr>\n",
       "    <tr>\n",
       "      <th>28</th>\n",
       "      <td>Hepatitis C</td>\n",
       "      <td>inflammation liver hepatitis c virus ( hcv ) u...</td>\n",
       "    </tr>\n",
       "    <tr>\n",
       "      <th>40</th>\n",
       "      <td>Tuberculosis</td>\n",
       "      <td>tuberculosis ( tb ) infectious disease usually...</td>\n",
       "    </tr>\n",
       "    <tr>\n",
       "      <th>18</th>\n",
       "      <td>Chicken pox</td>\n",
       "      <td>chickenpox highly contagious disease cause var...</td>\n",
       "    </tr>\n",
       "  </tbody>\n",
       "</table>\n",
       "</div>"
      ],
      "text/plain": [
       "         Disease                                        Description\n",
       "34        Dengue  acute infectious disease cause flavivirus ( sp...\n",
       "28   Hepatitis C  inflammation liver hepatitis c virus ( hcv ) u...\n",
       "40  Tuberculosis  tuberculosis ( tb ) infectious disease usually...\n",
       "18   Chicken pox  chickenpox highly contagious disease cause var..."
      ]
     },
     "execution_count": 7,
     "metadata": {},
     "output_type": "execute_result"
    }
   ],
   "source": [
    "def get_recommendation(disease, similarity_matrix, indices):\n",
    "    index = disease_indices[disease]\n",
    "    scores = sorted([*enumerate(similarity_matrix[index])], \n",
    "                    key=lambda x: x[1], \n",
    "                    reverse=True)[1:5]\n",
    "    similar_diseases = [i[0] for i in scores]\n",
    "    return disease_description.iloc[similar_diseases]\n",
    "\n",
    "get_recommendation('Malaria', similarity_matrix, disease_indices)"
   ]
  }
 ],
 "metadata": {
  "kernelspec": {
   "display_name": "Python 3 (ipykernel)",
   "language": "python",
   "name": "python3"
  },
  "language_info": {
   "codemirror_mode": {
    "name": "ipython",
    "version": 3
   },
   "file_extension": ".py",
   "mimetype": "text/x-python",
   "name": "python",
   "nbconvert_exporter": "python",
   "pygments_lexer": "ipython3",
   "version": "3.8.13"
  },
  "toc": {
   "base_numbering": 1,
   "nav_menu": {},
   "number_sections": true,
   "sideBar": true,
   "skip_h1_title": false,
   "title_cell": "Table of Contents",
   "title_sidebar": "Contents",
   "toc_cell": false,
   "toc_position": {},
   "toc_section_display": true,
   "toc_window_display": false
  },
  "varInspector": {
   "cols": {
    "lenName": 16,
    "lenType": 16,
    "lenVar": 40
   },
   "kernels_config": {
    "python": {
     "delete_cmd_postfix": "",
     "delete_cmd_prefix": "del ",
     "library": "var_list.py",
     "varRefreshCmd": "print(var_dic_list())"
    },
    "r": {
     "delete_cmd_postfix": ") ",
     "delete_cmd_prefix": "rm(",
     "library": "var_list.r",
     "varRefreshCmd": "cat(var_dic_list()) "
    }
   },
   "types_to_exclude": [
    "module",
    "function",
    "builtin_function_or_method",
    "instance",
    "_Feature"
   ],
   "window_display": false
  }
 },
 "nbformat": 4,
 "nbformat_minor": 5
}
